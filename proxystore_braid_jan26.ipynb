{
 "cells": [
  {
   "cell_type": "markdown",
   "id": "95cab9b2-2331-4d23-bd70-f6d86ca705eb",
   "metadata": {
    "slideshow": {
     "slide_type": "slide"
    },
    "tags": []
   },
   "source": [
    "## Decoupling data from compute in FaaS workflows with ProxyStore\n",
    "\n",
    "Valerie Hayot-Sasson\\\n",
    "Braid meeting\\\n",
    "Jan 25, 2023"
   ]
  },
  {
   "cell_type": "markdown",
   "id": "fc07cf0f-6f88-4fe8-9188-7b40bbdca32b",
   "metadata": {
    "slideshow": {
     "slide_type": "slide"
    },
    "tags": []
   },
   "source": [
    "### Data transfers in FaaS is inefficient\n",
    "\n",
    "\n",
    "![images/trad_faas.png](images/trad_faas.png)"
   ]
  },
  {
   "cell_type": "markdown",
   "id": "fec09eed-001d-486a-a239-1cec2996defd",
   "metadata": {
    "slideshow": {
     "slide_type": "slide"
    },
    "tags": []
   },
   "source": [
    "### ProxyStore: Transfer proxy first, data later\n",
    "<img src=\"images/proxy_data_transfer.png\" alt=\"images/proxy_data_transfer.png\" width=\"500\" style=\"display:block;margin-right:auto;margin-left:auto\"/>"
   ]
  },
  {
   "cell_type": "markdown",
   "id": "58c6a977-8ec7-4f04-bf8a-a71c3188dc28",
   "metadata": {
    "slideshow": {
     "slide_type": "slide"
    },
    "tags": []
   },
   "source": [
    "### But what are Proxy objects ?\n",
    "\n",
    "A reference to an immutable Python object located anywhere\n",
    "\n",
    "They: \n",
    "- Transparently wrap ***target*** objects\n",
    "- Are initialized by a ***factory***\n",
    "- Provide ***just-in-time resolution***"
   ]
  },
  {
   "cell_type": "markdown",
   "id": "1fd89d1d-29ee-48fd-9f17-4a35b8815782",
   "metadata": {
    "slideshow": {
     "slide_type": "subslide"
    },
    "tags": []
   },
   "source": [
    "### How to create a Proxy object"
   ]
  },
  {
   "cell_type": "code",
   "execution_count": 1,
   "id": "db17b265-c597-4557-b9e1-4d694f233dff",
   "metadata": {
    "slideshow": {
     "slide_type": "subslide"
    },
    "tags": []
   },
   "outputs": [],
   "source": [
    "from proxystore.proxy import Proxy\n",
    "\n",
    "x = \"The proxy has been resolved\"\n",
    "\n",
    "class MyFactory():\n",
    "    def __init__(self, obj):\n",
    "        self.obj = obj\n",
    "\n",
    "    def __call__(self):\n",
    "        return self.obj\n",
    "\n",
    "\n",
    "p = Proxy(MyFactory(x))"
   ]
  },
  {
   "cell_type": "code",
   "execution_count": 2,
   "id": "c05eef0c-4bae-4dbe-9fa2-e10fe4c3faed",
   "metadata": {
    "slideshow": {
     "slide_type": "fragment"
    },
    "tags": []
   },
   "outputs": [
    {
     "data": {
      "text/plain": [
       "False"
      ]
     },
     "execution_count": 2,
     "metadata": {},
     "output_type": "execute_result"
    }
   ],
   "source": [
    "from proxystore.proxy import is_resolved\n",
    "is_resolved(p)"
   ]
  },
  {
   "cell_type": "code",
   "execution_count": 3,
   "id": "88b70244-c1a2-41fb-8807-35a2506d7222",
   "metadata": {
    "slideshow": {
     "slide_type": "fragment"
    },
    "tags": []
   },
   "outputs": [
    {
     "name": "stdout",
     "output_type": "stream",
     "text": [
      "The proxy has been resolved\n"
     ]
    }
   ],
   "source": [
    "print(p)"
   ]
  },
  {
   "cell_type": "code",
   "execution_count": 4,
   "id": "e4e7927f-fdca-44f1-84c6-aee9c006faff",
   "metadata": {
    "slideshow": {
     "slide_type": "fragment"
    },
    "tags": []
   },
   "outputs": [
    {
     "data": {
      "text/plain": [
       "True"
      ]
     },
     "execution_count": 4,
     "metadata": {},
     "output_type": "execute_result"
    }
   ],
   "source": [
    "isinstance(p, Proxy)"
   ]
  },
  {
   "cell_type": "code",
   "execution_count": 5,
   "id": "754bbbbb-00ea-4395-beee-313f18014967",
   "metadata": {
    "slideshow": {
     "slide_type": "subslide"
    },
    "tags": []
   },
   "outputs": [
    {
     "data": {
      "text/plain": [
       "False"
      ]
     },
     "execution_count": 5,
     "metadata": {},
     "output_type": "execute_result"
    }
   ],
   "source": [
    "from proxystore.proxy import extract\n",
    "\n",
    "x = extract(p) # extracts the object from the proxy\n",
    "isinstance(x, Proxy)"
   ]
  },
  {
   "cell_type": "markdown",
   "id": "4cc965c5-931b-4036-8368-43a535b9972b",
   "metadata": {
    "slideshow": {
     "slide_type": "slide"
    },
    "tags": []
   },
   "source": [
    "### The Stores\n",
    "\n",
    "Class that handles communication of objects via mediated channels\n",
    "\n",
    "Asynchronous transfers enabled by the stores\n",
    "\n",
    "Exposes:\n",
    "- Get\n",
    "- Set\n",
    "- Evict\n",
    "- Exists"
   ]
  },
  {
   "cell_type": "markdown",
   "id": "71ebe57b-7ace-49c7-b5d4-19bf33c29ba7",
   "metadata": {
    "slideshow": {
     "slide_type": "slide"
    },
    "tags": []
   },
   "source": [
    "### Many Available Stores\n",
    "\n",
    "And more to possibly come...\n",
    "\n",
    "Stores based on existing services:\n",
    "- RedisStore\n",
    "- GlobusStore\n",
    "- FileStore\n",
    "- LocalStore\n",
    "\n",
    "Custom in-memory stores:\n",
    "- EndpointStore\n",
    "- Distributed in-memory stores "
   ]
  },
  {
   "cell_type": "markdown",
   "id": "8961d8b5-d142-42c0-b820-bfa676936a3c",
   "metadata": {
    "slideshow": {
     "slide_type": "slide"
    },
    "tags": []
   },
   "source": [
    "### The EndpointStore\n",
    "\n",
    "An in-memory store for inter-site communication\n",
    "\n",
    "Key format: `(object_id, endpoint_id)`\n",
    "\n",
    "\n",
    "![images/endpointstore.png](images/endpointstore.png)"
   ]
  },
  {
   "cell_type": "markdown",
   "id": "c91f9de4-9ac2-4d80-b46e-c80dad49071a",
   "metadata": {
    "slideshow": {
     "slide_type": "slide"
    },
    "tags": []
   },
   "source": [
    "### The Distributed in-memory stores\n",
    "\n",
    "An in-memory store for intra-site communication\n",
    "\n",
    "Key format: (object_id, size, peer_id)\n",
    "\n",
    "<img src=\"images/dimstore.png\" alt=\"images/dimstore.png\" width=\"400\"/>"
   ]
  },
  {
   "cell_type": "markdown",
   "id": "c2cf75cd-3ac0-4413-854f-1c8d86d7a0bf",
   "metadata": {
    "slideshow": {
     "slide_type": "slide"
    },
    "tags": []
   },
   "source": [
    "### Available distributed in-memory stores\n",
    "\n",
    "- WebsocketStore (fallback)\n",
    "- UCXStore\n",
    "- MargoStore"
   ]
  },
  {
   "cell_type": "markdown",
   "id": "f22a875f-a09c-40bf-9a68-f15e4eb7a386",
   "metadata": {
    "slideshow": {
     "slide_type": "slide"
    },
    "tags": []
   },
   "source": [
    "### How to use a store"
   ]
  },
  {
   "cell_type": "code",
   "execution_count": 6,
   "id": "c99098ae-9c77-4408-8ddd-4c1bbfa1a360",
   "metadata": {
    "slideshow": {
     "slide_type": "subslide"
    },
    "tags": []
   },
   "outputs": [],
   "source": [
    "from proxystore.store.file import FileStore\n",
    "\n",
    "fs = FileStore('mystore', store_dir='mystore', cache_size=16)\n",
    "p = fs.set(\"hello\")"
   ]
  },
  {
   "cell_type": "code",
   "execution_count": 7,
   "id": "60ceb60f-9a54-43b1-bcc3-7627647b736c",
   "metadata": {
    "slideshow": {
     "slide_type": "fragment"
    },
    "tags": []
   },
   "outputs": [
    {
     "data": {
      "text/plain": [
       "FileStoreKey(filename='92383075450681783512448073936453971083')"
      ]
     },
     "execution_count": 7,
     "metadata": {},
     "output_type": "execute_result"
    }
   ],
   "source": [
    "p"
   ]
  },
  {
   "cell_type": "code",
   "execution_count": 8,
   "id": "0086123f-85c5-4868-85e9-f5da7808f16e",
   "metadata": {
    "slideshow": {
     "slide_type": "fragment"
    },
    "tags": []
   },
   "outputs": [
    {
     "name": "stdout",
     "output_type": "stream",
     "text": [
      "92383075450681783512448073936453971083\n"
     ]
    }
   ],
   "source": [
    "!ls mystore"
   ]
  },
  {
   "cell_type": "code",
   "execution_count": 9,
   "id": "2e1626e8-fdd7-467d-9448-f3151e6d27c4",
   "metadata": {
    "slideshow": {
     "slide_type": "fragment"
    },
    "tags": []
   },
   "outputs": [
    {
     "name": "stdout",
     "output_type": "stream",
     "text": [
      "02\n",
      "hello"
     ]
    }
   ],
   "source": [
    "!cat \"mystore/$(ls mystore)\""
   ]
  },
  {
   "cell_type": "code",
   "execution_count": 10,
   "id": "97f6ec4b-075c-495c-9b97-a70dcf5e52c9",
   "metadata": {
    "slideshow": {
     "slide_type": "subslide"
    },
    "tags": []
   },
   "outputs": [
    {
     "data": {
      "text/plain": [
       "'hello'"
      ]
     },
     "execution_count": 10,
     "metadata": {},
     "output_type": "execute_result"
    }
   ],
   "source": [
    "q = fs.get(p)\n",
    "q"
   ]
  },
  {
   "cell_type": "code",
   "execution_count": 11,
   "id": "544f6231-abeb-4b48-90dd-a78903632b4d",
   "metadata": {
    "slideshow": {
     "slide_type": "fragment"
    },
    "tags": []
   },
   "outputs": [],
   "source": [
    "fs.evict(p)"
   ]
  },
  {
   "cell_type": "code",
   "execution_count": 12,
   "id": "ac033486-85bd-40c4-90aa-76b558266db4",
   "metadata": {
    "slideshow": {
     "slide_type": "fragment"
    },
    "tags": []
   },
   "outputs": [
    {
     "name": "stdout",
     "output_type": "stream",
     "text": [
      "total 0\n",
      "drwxr-xr-x@ 8 valeriehayot-sasson  staff   256B Jan 26 07:41 \u001b[34m..\u001b[m\u001b[m\n",
      "drwxr-xr-x@ 2 valeriehayot-sasson  staff    64B Jan 26 07:41 \u001b[34m.\u001b[m\u001b[m\n"
     ]
    }
   ],
   "source": [
    "!ls -larth mystore"
   ]
  },
  {
   "cell_type": "markdown",
   "id": "26b6f81f-422c-4919-8873-4a7a78efff4c",
   "metadata": {
    "slideshow": {
     "slide_type": "slide"
    },
    "tags": []
   },
   "source": [
    "### Experimental Results"
   ]
  },
  {
   "cell_type": "markdown",
   "id": "d0a7be32-4714-4ee6-ad24-ae6a128e19b5",
   "metadata": {
    "slideshow": {
     "slide_type": "fragment"
    },
    "tags": []
   },
   "source": [
    "![images/store_performance.png](images/store_performance.png)"
   ]
  },
  {
   "cell_type": "markdown",
   "id": "c78bd0c0-9627-4852-aa9e-1aef7f528e30",
   "metadata": {
    "slideshow": {
     "slide_type": "slide"
    },
    "tags": []
   },
   "source": [
    "### Distributed in-memory store"
   ]
  },
  {
   "cell_type": "markdown",
   "id": "83be39cb-5692-49de-912e-415c07ded75d",
   "metadata": {
    "slideshow": {
     "slide_type": "fragment"
    },
    "tags": []
   },
   "source": [
    "![images/dim_perf.png](images/dim_perf.png)"
   ]
  },
  {
   "cell_type": "markdown",
   "id": "8ee05fd0-d554-4b9e-9ba1-5711b0f42587",
   "metadata": {
    "slideshow": {
     "slide_type": "slide"
    },
    "tags": []
   },
   "source": [
    "### Future work\n",
    "\n",
    "- Develop a MultiStore\n",
    "- Add policies for moving and persisting data\n",
    "- Enable prefetching of data based on task placement"
   ]
  },
  {
   "cell_type": "markdown",
   "id": "c1910b87-b278-461a-948c-3ff7f4088aef",
   "metadata": {
    "slideshow": {
     "slide_type": "slide"
    },
    "tags": []
   },
   "source": [
    "### Questions?\n",
    "[GitHub](https://github.com/proxystore)\n",
    "\n",
    "[Documentation](https://proxystore.readthedocs.io/en/latest/)"
   ]
  }
 ],
 "metadata": {
  "kernelspec": {
   "display_name": "Python 3 (ipykernel)",
   "language": "python",
   "name": "python3"
  },
  "language_info": {
   "codemirror_mode": {
    "name": "ipython",
    "version": 3
   },
   "file_extension": ".py",
   "mimetype": "text/x-python",
   "name": "python",
   "nbconvert_exporter": "python",
   "pygments_lexer": "ipython3",
   "version": "3.10.7"
  }
 },
 "nbformat": 4,
 "nbformat_minor": 5
}
